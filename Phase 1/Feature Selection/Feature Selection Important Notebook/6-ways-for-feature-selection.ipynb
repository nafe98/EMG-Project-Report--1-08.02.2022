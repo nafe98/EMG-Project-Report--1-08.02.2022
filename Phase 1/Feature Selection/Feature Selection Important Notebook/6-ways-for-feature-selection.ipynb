{
 "cells": [
  {
   "cell_type": "markdown",
   "metadata": {
    "_uuid": "32f250c8a08236f97a1f2e61d95182d845a09ed8"
   },
   "source": [
    "- <a href='#1'>Prepare</a>  \n",
    "- <a href='#2'>Feature Selection</a>\n",
    "    - <a href='#2-1'>1. Filter</a>\n",
    "        - <a href='#2-1-1'>1.1 Pearson Correlation</a>\n",
    "        - <a href='#2-1-2'>1.2 Chi-2</a>\n",
    "    - <a href='#2-2'>2. Wrapper</a>\n",
    "    - <a href='#2-3'>3. Embeded</a>\n",
    "        - <a href='#2-3-1'>3.1 Logistics Regression L1</a>\n",
    "        - <a href='#2-3-2'>3.2 Random Forest</a>\n",
    "        - <a href='#2-3-3'>3.3 LightGBM</a>\n",
    "- <a href='#3'>Summary</a>"
   ]
  },
  {
   "cell_type": "markdown",
   "metadata": {
    "_uuid": "50b106bf0350e3bbf749b2b7c884f61d7e2bb362"
   },
   "source": [
    "# <a id='1'>Prepare</a>"
   ]
  },
  {
   "cell_type": "code",
   "execution_count": null,
   "metadata": {
    "_cell_guid": "b1076dfc-b9ad-4769-8c92-a6c4dae69d19",
    "_uuid": "8f2839f25d086af736a60e9eeb907d3b93b6e0e5",
    "collapsed": true
   },
   "outputs": [],
   "source": [
    "import pandas as pd\n",
    "import numpy as np\n",
    "import gc\n",
    "import warnings\n",
    "warnings.filterwarnings(\"ignore\")\n",
    "application_train = pd.read_csv('../input/application_train.csv')"
   ]
  },
  {
   "cell_type": "markdown",
   "metadata": {
    "_uuid": "6457fd9bc6d93c2a2d5bdeeb7d8e92e5a4df5f61"
   },
   "source": [
    "### Stratified Sampling (ratio = 0.1)"
   ]
  },
  {
   "cell_type": "code",
   "execution_count": null,
   "metadata": {
    "_uuid": "ec925c8bae03e83580c84f3cfbac13fc0610d830"
   },
   "outputs": [],
   "source": [
    "application_sample1 = application_train.loc[application_train.TARGET==1].sample(frac=0.1, replace=False)\n",
    "print('label 1 sample size:', str(application_sample1.shape[0]))\n",
    "application_sample0 = application_train.loc[application_train.TARGET==0].sample(frac=0.1, replace=False)\n",
    "print('label 0 sample size:', str(application_sample0.shape[0]))\n",
    "application = pd.concat([application_sample1, application_sample0], axis=0).sort_values('SK_ID_CURR')"
   ]
  },
  {
   "cell_type": "markdown",
   "metadata": {
    "_uuid": "b60d374d0853ed33103f9765b8b2ff67cf02c6a8"
   },
   "source": [
    "### Impute missing values"
   ]
  },
  {
   "cell_type": "code",
   "execution_count": null,
   "metadata": {
    "_uuid": "9c2223e87930b2b0edd472bf837c332fc64c7073"
   },
   "outputs": [],
   "source": [
    "categorical_list = []\n",
    "numerical_list = []\n",
    "for i in application.columns.tolist():\n",
    "    if application[i].dtype=='object':\n",
    "        categorical_list.append(i)\n",
    "    else:\n",
    "        numerical_list.append(i)\n",
    "print('Number of categorical features:', str(len(categorical_list)))\n",
    "print('Number of numerical features:', str(len(numerical_list)))"
   ]
  },
  {
   "cell_type": "code",
   "execution_count": null,
   "metadata": {
    "_uuid": "8d211c6cb0ea998bfb9d25f795a3a1acb001baa2"
   },
   "outputs": [],
   "source": [
    "from sklearn.preprocessing import Imputer\n",
    "application[numerical_list] = Imputer(strategy='median').fit_transform(application[numerical_list])"
   ]
  },
  {
   "cell_type": "markdown",
   "metadata": {
    "_uuid": "6be8084b9ccf1e19ba4fb887499f4f36dab12dd6"
   },
   "source": [
    "### Deal with Categorical features: OneHotEncoding"
   ]
  },
  {
   "cell_type": "code",
   "execution_count": null,
   "metadata": {
    "_uuid": "8fc1c57326e3f8d12c24a27167164f1d7509a03b"
   },
   "outputs": [],
   "source": [
    "del application_train; gc.collect()\n",
    "application = pd.get_dummies(application, drop_first=True)\n",
    "print(application.shape)"
   ]
  },
  {
   "cell_type": "markdown",
   "metadata": {
    "_uuid": "7f7ef75f806572337ce0b84ab4eb617025dcf2cd"
   },
   "source": [
    "### Feature matrix and target"
   ]
  },
  {
   "cell_type": "code",
   "execution_count": null,
   "metadata": {
    "_uuid": "1c591f0a85172781cf01d95178b7767328d4e11d",
    "collapsed": true
   },
   "outputs": [],
   "source": [
    "X = application.drop(['SK_ID_CURR', 'TARGET'], axis=1)\n",
    "y = application.TARGET\n",
    "feature_name = X.columns.tolist()"
   ]
  },
  {
   "cell_type": "markdown",
   "metadata": {
    "_uuid": "b9e931811c3f182ed852bca050c64dd9bf6ad608"
   },
   "source": [
    "# <a id='2'>Feature Selection</a>\n",
    "- select **100** features from 226\n",
    "- **xxx_support**: list to represent select this feature or not\n",
    "- **xxx_feature**: the name of selected features"
   ]
  },
  {
   "cell_type": "markdown",
   "metadata": {
    "_uuid": "046388ce3e7a77c033bd8cd2fb1c7c8859c43a75"
   },
   "source": [
    "## <a id='2-1'>1 Filter</a>\n",
    "- documentation for **SelectKBest**: http://scikit-learn.org/stable/modules/generated/sklearn.feature_selection.SelectKBest.html\n",
    "\n",
    "###  <a id='2-1-1'>1.1 Pearson Correlation</a>\n",
    "**Note**\n",
    "- Normalization: no\n",
    "- Impute missing values: yes"
   ]
  },
  {
   "cell_type": "code",
   "execution_count": null,
   "metadata": {
    "_uuid": "cfcbd8200acaedfffa677892bf63e05194172bca",
    "collapsed": true
   },
   "outputs": [],
   "source": [
    "def cor_selector(X, y):\n",
    "    cor_list = []\n",
    "    # calculate the correlation with y for each feature\n",
    "    for i in X.columns.tolist():\n",
    "        cor = np.corrcoef(X[i], y)[0, 1]\n",
    "        cor_list.append(cor)\n",
    "    # replace NaN with 0\n",
    "    cor_list = [0 if np.isnan(i) else i for i in cor_list]\n",
    "    # feature name\n",
    "    cor_feature = X.iloc[:,np.argsort(np.abs(cor_list))[-100:]].columns.tolist()\n",
    "    # feature selection? 0 for not select, 1 for select\n",
    "    cor_support = [True if i in cor_feature else False for i in feature_name]\n",
    "    return cor_support, cor_feature"
   ]
  },
  {
   "cell_type": "code",
   "execution_count": null,
   "metadata": {
    "_uuid": "b85b3e3c49375e6a9c0a8690774277168d91fd8e"
   },
   "outputs": [],
   "source": [
    "cor_support, cor_feature = cor_selector(X, y)\n",
    "print(str(len(cor_feature)), 'selected features')"
   ]
  },
  {
   "cell_type": "markdown",
   "metadata": {
    "_uuid": "3cbcc0cb047f4071859c51b69cd059f254b72a2e"
   },
   "source": [
    "###  <a id='2-1-2'>1.2 Chi-2</a>\n",
    "\n",
    "**Note**\n",
    "- Normalization: MinMaxScaler (values should be bigger than 0)\n",
    "- Impute missing values: yes"
   ]
  },
  {
   "cell_type": "code",
   "execution_count": null,
   "metadata": {
    "_uuid": "658683b50f43f019545b99bd67efe6546c91774d"
   },
   "outputs": [],
   "source": [
    "from sklearn.feature_selection import SelectKBest\n",
    "from sklearn.feature_selection import chi2\n",
    "from sklearn.preprocessing import MinMaxScaler\n",
    "X_norm = MinMaxScaler().fit_transform(X)\n",
    "chi_selector = SelectKBest(chi2, k=100)\n",
    "chi_selector.fit(X_norm, y)"
   ]
  },
  {
   "cell_type": "code",
   "execution_count": null,
   "metadata": {
    "_uuid": "c98cd7a868bdd777997e6c3e6781b71a8e74426b"
   },
   "outputs": [],
   "source": [
    "chi_support = chi_selector.get_support()\n",
    "chi_feature = X.loc[:,chi_support].columns.tolist()\n",
    "print(str(len(chi_feature)), 'selected features')"
   ]
  },
  {
   "cell_type": "markdown",
   "metadata": {
    "_uuid": "efb3ef018eef869665dbdb9efc87bb19c497a281"
   },
   "source": [
    "## <a id='2-2'>2. Wrapper</a>\n",
    "- documentation for **RFE**: http://scikit-learn.org/stable/modules/generated/sklearn.feature_selection.RFE.html\n",
    "\n",
    "**Note**\n",
    "- Normalization: depend on the used model; yes for LR\n",
    "- Impute missing values: depend on the used model; yes for LR\n"
   ]
  },
  {
   "cell_type": "code",
   "execution_count": null,
   "metadata": {
    "_uuid": "a9abf1b048e97c650a70b90abf14b7a4b2d1289c"
   },
   "outputs": [],
   "source": [
    "from sklearn.feature_selection import RFE\n",
    "from sklearn.linear_model import LogisticRegression\n",
    "rfe_selector = RFE(estimator=LogisticRegression(), n_features_to_select=100, step=10, verbose=5)\n",
    "rfe_selector.fit(X_norm, y)"
   ]
  },
  {
   "cell_type": "code",
   "execution_count": null,
   "metadata": {
    "_uuid": "053eec2922e6d3dab12c33dd7d32541c92f7baf5"
   },
   "outputs": [],
   "source": [
    "rfe_support = rfe_selector.get_support()\n",
    "rfe_feature = X.loc[:,rfe_support].columns.tolist()\n",
    "print(str(len(rfe_feature)), 'selected features')"
   ]
  },
  {
   "cell_type": "markdown",
   "metadata": {
    "_uuid": "a3eb1a94581cd812889393d761578502c261eabd"
   },
   "source": [
    "## <a id='2-3'>3. Embeded</a>\n",
    "- documentation for **SelectFromModel**: http://scikit-learn.org/stable/modules/generated/sklearn.feature_selection.SelectFromModel.html\n",
    "###  <a id='2-3-1'>3.1 Logistics Regression L1</a>\n",
    "**Note**\n",
    "- Normalization: Yes\n",
    "- Impute missing values: Yes"
   ]
  },
  {
   "cell_type": "code",
   "execution_count": null,
   "metadata": {
    "_uuid": "76dab473b86f2179c3fe19dd92a340fd44a32391"
   },
   "outputs": [],
   "source": [
    "from sklearn.feature_selection import SelectFromModel\n",
    "from sklearn.linear_model import LogisticRegression\n",
    "\n",
    "embeded_lr_selector = SelectFromModel(LogisticRegression(penalty=\"l1\"), '1.25*median')\n",
    "embeded_lr_selector.fit(X_norm, y)"
   ]
  },
  {
   "cell_type": "code",
   "execution_count": null,
   "metadata": {
    "_uuid": "c06bd778b9d570ff59643421aca6b5958f440f76"
   },
   "outputs": [],
   "source": [
    "embeded_lr_support = embeded_lr_selector.get_support()\n",
    "embeded_lr_feature = X.loc[:,embeded_lr_support].columns.tolist()\n",
    "print(str(len(embeded_lr_feature)), 'selected features')"
   ]
  },
  {
   "cell_type": "markdown",
   "metadata": {
    "_uuid": "c58b2e9fec43aae9139f60a4d1e281bd02b858a4"
   },
   "source": [
    "###  <a id='2-3-2'>3.2 Random Forest</a>\n",
    "**Note**\n",
    "- Normalization: No\n",
    "- Impute missing values: Yes"
   ]
  },
  {
   "cell_type": "code",
   "execution_count": null,
   "metadata": {
    "_uuid": "b6dca212430308787824918cd0de78926747b7e8"
   },
   "outputs": [],
   "source": [
    "from sklearn.feature_selection import SelectFromModel\n",
    "from sklearn.ensemble import RandomForestClassifier\n",
    "\n",
    "embeded_rf_selector = SelectFromModel(RandomForestClassifier(n_estimators=100), threshold='1.25*median')\n",
    "embeded_rf_selector.fit(X, y)"
   ]
  },
  {
   "cell_type": "code",
   "execution_count": null,
   "metadata": {
    "_uuid": "9367e5e5afe37ae279966eb01ebfa2b1a6dd970f"
   },
   "outputs": [],
   "source": [
    "embeded_rf_support = embeded_rf_selector.get_support()\n",
    "embeded_rf_feature = X.loc[:,embeded_rf_support].columns.tolist()\n",
    "print(str(len(embeded_rf_feature)), 'selected features')"
   ]
  },
  {
   "cell_type": "markdown",
   "metadata": {
    "_uuid": "3848e7fb4720bdec1626779dc1f54a298ed0c10a"
   },
   "source": [
    "###  <a id='2-3-3'>3.3 LightGBM</a>\n",
    "**Note**\n",
    "- Normalization: No\n",
    "- Impute missing values: No"
   ]
  },
  {
   "cell_type": "code",
   "execution_count": null,
   "metadata": {
    "_uuid": "a82078ce64a76d38676ca621eef99afd5f0fb3e1"
   },
   "outputs": [],
   "source": [
    "from sklearn.feature_selection import SelectFromModel\n",
    "from lightgbm import LGBMClassifier\n",
    "\n",
    "lgbc=LGBMClassifier(n_estimators=500, learning_rate=0.05, num_leaves=32, colsample_bytree=0.2,\n",
    "            reg_alpha=3, reg_lambda=1, min_split_gain=0.01, min_child_weight=40)\n",
    "\n",
    "embeded_lgb_selector = SelectFromModel(lgbc, threshold='1.25*median')\n",
    "embeded_lgb_selector.fit(X, y)"
   ]
  },
  {
   "cell_type": "code",
   "execution_count": null,
   "metadata": {
    "_uuid": "a0e8713cd2980151d14c9c67334e92628226362c"
   },
   "outputs": [],
   "source": [
    "embeded_lgb_support = embeded_lgb_selector.get_support()\n",
    "embeded_lgb_feature = X.loc[:,embeded_lgb_support].columns.tolist()\n",
    "print(str(len(embeded_lgb_feature)), 'selected features')"
   ]
  },
  {
   "cell_type": "markdown",
   "metadata": {
    "_uuid": "9f8eb0e93217e114442931ce30a2657926e471b1"
   },
   "source": [
    "# <a id='3'>Summary</a>"
   ]
  },
  {
   "cell_type": "code",
   "execution_count": null,
   "metadata": {
    "_uuid": "457ed42ac4708f6f93bb23c194e6cc7d17b71333"
   },
   "outputs": [],
   "source": [
    "pd.set_option('display.max_rows', None)\n",
    "# put all selection together\n",
    "feature_selection_df = pd.DataFrame({'Feature':feature_name, 'Pearson':cor_support, 'Chi-2':chi_support, 'RFE':rfe_support, 'Logistics':embeded_lr_support,\n",
    "                                    'Random Forest':embeded_rf_support, 'LightGBM':embeded_lgb_support})\n",
    "# count the selected times for each feature\n",
    "feature_selection_df['Total'] = np.sum(feature_selection_df, axis=1)\n",
    "# display the top 100\n",
    "feature_selection_df = feature_selection_df.sort_values(['Total','Feature'] , ascending=False)\n",
    "feature_selection_df.index = range(1, len(feature_selection_df)+1)\n",
    "feature_selection_df.head(100)"
   ]
  }
 ],
 "metadata": {
  "kernelspec": {
   "display_name": "Python 3 (ipykernel)",
   "language": "python",
   "name": "python3"
  },
  "language_info": {
   "codemirror_mode": {
    "name": "ipython",
    "version": 3
   },
   "file_extension": ".py",
   "mimetype": "text/x-python",
   "name": "python",
   "nbconvert_exporter": "python",
   "pygments_lexer": "ipython3",
   "version": "3.8.12"
  }
 },
 "nbformat": 4,
 "nbformat_minor": 1
}
