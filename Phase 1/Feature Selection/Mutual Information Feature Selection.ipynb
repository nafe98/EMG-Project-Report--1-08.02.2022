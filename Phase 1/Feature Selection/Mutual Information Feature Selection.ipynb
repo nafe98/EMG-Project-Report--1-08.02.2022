{
 "cells": [
  {
   "cell_type": "markdown",
   "id": "cd18036b",
   "metadata": {},
   "source": [
    "Reference : https://machinelearningmastery.com/feature-selection-with-numerical-input-data/"
   ]
  },
  {
   "cell_type": "code",
   "execution_count": 1,
   "id": "d08f2b9d",
   "metadata": {},
   "outputs": [],
   "source": [
    "import numpy as np\n",
    "import pandas as pd\n",
    "import matplotlib.pyplot as plt\n",
    "import seaborn as sns\n",
    "from sklearn.model_selection import train_test_split\n",
    "from sklearn.metrics import confusion_matrix, f1_score, accuracy_score, classification_report\n",
    "from sklearn.feature_selection import SelectKBest\n",
    "from sklearn.feature_selection import mutual_info_classif\n",
    "from matplotlib import pyplot"
   ]
  },
  {
   "cell_type": "code",
   "execution_count": 2,
   "id": "89a6ac6e",
   "metadata": {},
   "outputs": [],
   "source": [
    "raw_data = pd.read_excel('Dataset 1 Patient 1.xlsx')"
   ]
  },
  {
   "cell_type": "code",
   "execution_count": 3,
   "id": "60e02e61",
   "metadata": {},
   "outputs": [
    {
     "name": "stdout",
     "output_type": "stream",
     "text": [
      "          Emg1    Emg2    Emg3    Emg4    Emg5    Emg6    Emg7    Emg8  \\\n",
      "0       0.0684  0.0024  0.0024  0.0024  0.0024  0.0098  0.0024  0.0488   \n",
      "1       0.0586  0.0024  0.0024  0.0024  0.0024  0.0049  0.0024  0.0415   \n",
      "2       0.0562  0.0024  0.0024  0.0024  0.0024  0.0049  0.0024  0.0391   \n",
      "3       0.0562  0.0024  0.0024  0.0024  0.0024  0.0049  0.0024  0.0342   \n",
      "4       0.0488  0.0024  0.0024  0.0024  0.0024  0.0024  0.0024  0.0366   \n",
      "...        ...     ...     ...     ...     ...     ...     ...     ...   \n",
      "471478  0.0024  0.0024  0.0024  0.0024  0.0024  0.0024  0.0024  0.0562   \n",
      "471479  0.0024  0.0024  0.0024  0.0024  0.0024  0.0049  0.0024  0.0513   \n",
      "471480  0.0024  0.0024  0.0024  0.0024  0.0024  0.0024  0.0024  0.0513   \n",
      "471481  0.0024  0.0024  0.0024  0.0024  0.0024  0.0024  0.0024  0.0488   \n",
      "471482  0.0024  0.0024  0.0024  0.0024  0.0024  0.0024  0.0024  0.0439   \n",
      "\n",
      "          Emg9   Emg10  repetition  rerepetition  stimulus  restimulus  \n",
      "0       0.0024  0.0342           0             0         0           0  \n",
      "1       0.0024  0.0293           0             0         0           0  \n",
      "2       0.0024  0.0244           0             0         0           0  \n",
      "3       0.0024  0.0171           0             0         0           0  \n",
      "4       0.0024  0.0146           0             0         0           0  \n",
      "...        ...     ...         ...           ...       ...         ...  \n",
      "471478  0.1221  0.0024           0             0         0           0  \n",
      "471479  0.1270  0.0024           0             0         0           0  \n",
      "471480  0.1270  0.0024           0             0         0           0  \n",
      "471481  0.1294  0.0024           0             0         0           0  \n",
      "471482  0.1294  0.0024           0             0         0           0  \n",
      "\n",
      "[413687 rows x 14 columns]\n"
     ]
    }
   ],
   "source": [
    "index_names = raw_data[ (raw_data['stimulus'] != raw_data['restimulus'])].index\n",
    "raw_data.drop(index_names, inplace = True)\n",
    "print(raw_data)"
   ]
  },
  {
   "cell_type": "code",
   "execution_count": 4,
   "id": "18e4fae6",
   "metadata": {},
   "outputs": [
    {
     "name": "stdout",
     "output_type": "stream",
     "text": [
      "          Emg1    Emg2    Emg3    Emg4    Emg5    Emg6    Emg7    Emg8  \\\n",
      "0       0.0684  0.0024  0.0024  0.0024  0.0024  0.0098  0.0024  0.0488   \n",
      "1       0.0586  0.0024  0.0024  0.0024  0.0024  0.0049  0.0024  0.0415   \n",
      "2       0.0562  0.0024  0.0024  0.0024  0.0024  0.0049  0.0024  0.0391   \n",
      "3       0.0562  0.0024  0.0024  0.0024  0.0024  0.0049  0.0024  0.0342   \n",
      "4       0.0488  0.0024  0.0024  0.0024  0.0024  0.0024  0.0024  0.0366   \n",
      "...        ...     ...     ...     ...     ...     ...     ...     ...   \n",
      "471478  0.0024  0.0024  0.0024  0.0024  0.0024  0.0024  0.0024  0.0562   \n",
      "471479  0.0024  0.0024  0.0024  0.0024  0.0024  0.0049  0.0024  0.0513   \n",
      "471480  0.0024  0.0024  0.0024  0.0024  0.0024  0.0024  0.0024  0.0513   \n",
      "471481  0.0024  0.0024  0.0024  0.0024  0.0024  0.0024  0.0024  0.0488   \n",
      "471482  0.0024  0.0024  0.0024  0.0024  0.0024  0.0024  0.0024  0.0439   \n",
      "\n",
      "          Emg9   Emg10  repetition  rerepetition  stimulus  restimulus  \n",
      "0       0.0024  0.0342           0             0         0           0  \n",
      "1       0.0024  0.0293           0             0         0           0  \n",
      "2       0.0024  0.0244           0             0         0           0  \n",
      "3       0.0024  0.0171           0             0         0           0  \n",
      "4       0.0024  0.0146           0             0         0           0  \n",
      "...        ...     ...         ...           ...       ...         ...  \n",
      "471478  0.1221  0.0024           0             0         0           0  \n",
      "471479  0.1270  0.0024           0             0         0           0  \n",
      "471480  0.1270  0.0024           0             0         0           0  \n",
      "471481  0.1294  0.0024           0             0         0           0  \n",
      "471482  0.1294  0.0024           0             0         0           0  \n",
      "\n",
      "[378535 rows x 14 columns]\n"
     ]
    }
   ],
   "source": [
    "index_names = raw_data[ (raw_data['repetition'] != raw_data['rerepetition'])].index\n",
    "raw_data.drop(index_names, inplace = True)\n",
    "print(raw_data)"
   ]
  },
  {
   "cell_type": "code",
   "execution_count": 5,
   "id": "fd65ed9c",
   "metadata": {},
   "outputs": [
    {
     "data": {
      "text/html": [
       "<div>\n",
       "<style scoped>\n",
       "    .dataframe tbody tr th:only-of-type {\n",
       "        vertical-align: middle;\n",
       "    }\n",
       "\n",
       "    .dataframe tbody tr th {\n",
       "        vertical-align: top;\n",
       "    }\n",
       "\n",
       "    .dataframe thead th {\n",
       "        text-align: right;\n",
       "    }\n",
       "</style>\n",
       "<table border=\"1\" class=\"dataframe\">\n",
       "  <thead>\n",
       "    <tr style=\"text-align: right;\">\n",
       "      <th></th>\n",
       "      <th>Emg1</th>\n",
       "      <th>Emg2</th>\n",
       "      <th>Emg3</th>\n",
       "      <th>Emg4</th>\n",
       "      <th>Emg5</th>\n",
       "      <th>Emg6</th>\n",
       "      <th>Emg7</th>\n",
       "      <th>Emg8</th>\n",
       "      <th>Emg9</th>\n",
       "      <th>Emg10</th>\n",
       "      <th>repetition</th>\n",
       "      <th>rerepetition</th>\n",
       "      <th>stimulus</th>\n",
       "      <th>restimulus</th>\n",
       "    </tr>\n",
       "  </thead>\n",
       "  <tbody>\n",
       "    <tr>\n",
       "      <th>count</th>\n",
       "      <td>378535.000000</td>\n",
       "      <td>378535.000000</td>\n",
       "      <td>378535.000000</td>\n",
       "      <td>378535.000000</td>\n",
       "      <td>378535.000000</td>\n",
       "      <td>378535.000000</td>\n",
       "      <td>378535.000000</td>\n",
       "      <td>378535.000000</td>\n",
       "      <td>378535.000000</td>\n",
       "      <td>378535.000000</td>\n",
       "      <td>378535.000000</td>\n",
       "      <td>378535.000000</td>\n",
       "      <td>378535.000000</td>\n",
       "      <td>378535.000000</td>\n",
       "    </tr>\n",
       "    <tr>\n",
       "      <th>mean</th>\n",
       "      <td>0.153991</td>\n",
       "      <td>0.151130</td>\n",
       "      <td>0.150774</td>\n",
       "      <td>0.053733</td>\n",
       "      <td>0.015006</td>\n",
       "      <td>0.017358</td>\n",
       "      <td>0.260184</td>\n",
       "      <td>0.265908</td>\n",
       "      <td>0.123911</td>\n",
       "      <td>0.079961</td>\n",
       "      <td>2.598087</td>\n",
       "      <td>2.598087</td>\n",
       "      <td>4.777310</td>\n",
       "      <td>4.777310</td>\n",
       "    </tr>\n",
       "    <tr>\n",
       "      <th>std</th>\n",
       "      <td>0.313319</td>\n",
       "      <td>0.353818</td>\n",
       "      <td>0.369052</td>\n",
       "      <td>0.184839</td>\n",
       "      <td>0.035486</td>\n",
       "      <td>0.046335</td>\n",
       "      <td>0.519964</td>\n",
       "      <td>0.384472</td>\n",
       "      <td>0.243624</td>\n",
       "      <td>0.166058</td>\n",
       "      <td>3.381989</td>\n",
       "      <td>3.381989</td>\n",
       "      <td>6.598915</td>\n",
       "      <td>6.598915</td>\n",
       "    </tr>\n",
       "    <tr>\n",
       "      <th>min</th>\n",
       "      <td>0.002400</td>\n",
       "      <td>0.000000</td>\n",
       "      <td>0.002400</td>\n",
       "      <td>0.000000</td>\n",
       "      <td>0.002400</td>\n",
       "      <td>0.000000</td>\n",
       "      <td>0.002400</td>\n",
       "      <td>0.002400</td>\n",
       "      <td>0.000000</td>\n",
       "      <td>0.002400</td>\n",
       "      <td>0.000000</td>\n",
       "      <td>0.000000</td>\n",
       "      <td>0.000000</td>\n",
       "      <td>0.000000</td>\n",
       "    </tr>\n",
       "    <tr>\n",
       "      <th>25%</th>\n",
       "      <td>0.002400</td>\n",
       "      <td>0.002400</td>\n",
       "      <td>0.002400</td>\n",
       "      <td>0.002400</td>\n",
       "      <td>0.002400</td>\n",
       "      <td>0.002400</td>\n",
       "      <td>0.014600</td>\n",
       "      <td>0.068400</td>\n",
       "      <td>0.002400</td>\n",
       "      <td>0.009800</td>\n",
       "      <td>0.000000</td>\n",
       "      <td>0.000000</td>\n",
       "      <td>0.000000</td>\n",
       "      <td>0.000000</td>\n",
       "    </tr>\n",
       "    <tr>\n",
       "      <th>50%</th>\n",
       "      <td>0.026900</td>\n",
       "      <td>0.002400</td>\n",
       "      <td>0.002400</td>\n",
       "      <td>0.002400</td>\n",
       "      <td>0.002400</td>\n",
       "      <td>0.002400</td>\n",
       "      <td>0.061000</td>\n",
       "      <td>0.124500</td>\n",
       "      <td>0.048800</td>\n",
       "      <td>0.041500</td>\n",
       "      <td>0.000000</td>\n",
       "      <td>0.000000</td>\n",
       "      <td>0.000000</td>\n",
       "      <td>0.000000</td>\n",
       "    </tr>\n",
       "    <tr>\n",
       "      <th>75%</th>\n",
       "      <td>0.151400</td>\n",
       "      <td>0.129400</td>\n",
       "      <td>0.109900</td>\n",
       "      <td>0.026900</td>\n",
       "      <td>0.004900</td>\n",
       "      <td>0.004900</td>\n",
       "      <td>0.256300</td>\n",
       "      <td>0.305200</td>\n",
       "      <td>0.148900</td>\n",
       "      <td>0.070800</td>\n",
       "      <td>5.000000</td>\n",
       "      <td>5.000000</td>\n",
       "      <td>9.000000</td>\n",
       "      <td>9.000000</td>\n",
       "    </tr>\n",
       "    <tr>\n",
       "      <th>max</th>\n",
       "      <td>4.665500</td>\n",
       "      <td>4.663100</td>\n",
       "      <td>4.658200</td>\n",
       "      <td>4.663100</td>\n",
       "      <td>0.876500</td>\n",
       "      <td>1.484400</td>\n",
       "      <td>4.663100</td>\n",
       "      <td>4.665500</td>\n",
       "      <td>4.660600</td>\n",
       "      <td>4.231000</td>\n",
       "      <td>10.000000</td>\n",
       "      <td>10.000000</td>\n",
       "      <td>23.000000</td>\n",
       "      <td>23.000000</td>\n",
       "    </tr>\n",
       "  </tbody>\n",
       "</table>\n",
       "</div>"
      ],
      "text/plain": [
       "                Emg1           Emg2           Emg3           Emg4  \\\n",
       "count  378535.000000  378535.000000  378535.000000  378535.000000   \n",
       "mean        0.153991       0.151130       0.150774       0.053733   \n",
       "std         0.313319       0.353818       0.369052       0.184839   \n",
       "min         0.002400       0.000000       0.002400       0.000000   \n",
       "25%         0.002400       0.002400       0.002400       0.002400   \n",
       "50%         0.026900       0.002400       0.002400       0.002400   \n",
       "75%         0.151400       0.129400       0.109900       0.026900   \n",
       "max         4.665500       4.663100       4.658200       4.663100   \n",
       "\n",
       "                Emg5           Emg6           Emg7           Emg8  \\\n",
       "count  378535.000000  378535.000000  378535.000000  378535.000000   \n",
       "mean        0.015006       0.017358       0.260184       0.265908   \n",
       "std         0.035486       0.046335       0.519964       0.384472   \n",
       "min         0.002400       0.000000       0.002400       0.002400   \n",
       "25%         0.002400       0.002400       0.014600       0.068400   \n",
       "50%         0.002400       0.002400       0.061000       0.124500   \n",
       "75%         0.004900       0.004900       0.256300       0.305200   \n",
       "max         0.876500       1.484400       4.663100       4.665500   \n",
       "\n",
       "                Emg9          Emg10     repetition   rerepetition  \\\n",
       "count  378535.000000  378535.000000  378535.000000  378535.000000   \n",
       "mean        0.123911       0.079961       2.598087       2.598087   \n",
       "std         0.243624       0.166058       3.381989       3.381989   \n",
       "min         0.000000       0.002400       0.000000       0.000000   \n",
       "25%         0.002400       0.009800       0.000000       0.000000   \n",
       "50%         0.048800       0.041500       0.000000       0.000000   \n",
       "75%         0.148900       0.070800       5.000000       5.000000   \n",
       "max         4.660600       4.231000      10.000000      10.000000   \n",
       "\n",
       "            stimulus     restimulus  \n",
       "count  378535.000000  378535.000000  \n",
       "mean        4.777310       4.777310  \n",
       "std         6.598915       6.598915  \n",
       "min         0.000000       0.000000  \n",
       "25%         0.000000       0.000000  \n",
       "50%         0.000000       0.000000  \n",
       "75%         9.000000       9.000000  \n",
       "max        23.000000      23.000000  "
      ]
     },
     "execution_count": 5,
     "metadata": {},
     "output_type": "execute_result"
    }
   ],
   "source": [
    "raw_data.describe(include='all')"
   ]
  },
  {
   "cell_type": "code",
   "execution_count": 6,
   "id": "61692fb8",
   "metadata": {},
   "outputs": [],
   "source": [
    "X = raw_data.iloc[:,0:10]\n",
    "y = raw_data.stimulus"
   ]
  },
  {
   "cell_type": "markdown",
   "id": "982518cb",
   "metadata": {},
   "source": [
    "# feature selection"
   ]
  },
  {
   "cell_type": "code",
   "execution_count": 7,
   "id": "255d2869",
   "metadata": {},
   "outputs": [],
   "source": [
    "X_train, X_test, y_train, y_test = train_test_split(X, y, test_size=0.33, random_state=1)"
   ]
  },
  {
   "cell_type": "code",
   "execution_count": 8,
   "id": "83fbb1ae",
   "metadata": {},
   "outputs": [],
   "source": [
    "# configure to select all features\n",
    "fs = SelectKBest(score_func=mutual_info_classif, k='all')\n",
    "# learn relationship from training data\n",
    "fs.fit(X_train, y_train)\n",
    "# transform train input data\n",
    "X_train_fs = fs.transform(X_train)\n",
    "# transform test input data\n",
    "X_test_fs = fs.transform(X_test)"
   ]
  },
  {
   "cell_type": "code",
   "execution_count": 10,
   "id": "4c9d608e",
   "metadata": {},
   "outputs": [
    {
     "name": "stdout",
     "output_type": "stream",
     "text": [
      "Feature 0: 0.307912\n",
      "Feature 1: 0.384394\n",
      "Feature 2: 0.407996\n",
      "Feature 3: 0.307649\n",
      "Feature 4: 0.222506\n",
      "Feature 5: 0.248281\n",
      "Feature 6: 0.402740\n",
      "Feature 7: 0.362739\n",
      "Feature 8: 0.341163\n",
      "Feature 9: 0.249691\n"
     ]
    }
   ],
   "source": [
    "# what are scores for the features\n",
    "for i in range(len(fs.scores_)):\n",
    "    print('Feature %d: %f' % (i, fs.scores_[i]))"
   ]
  },
  {
   "cell_type": "code",
   "execution_count": 11,
   "id": "df22010c",
   "metadata": {},
   "outputs": [
    {
     "data": {
      "image/png": "[encoded data removed]",
      "text/plain": [
       "<Figure size 432x288 with 1 Axes>"
      ]
     },
     "metadata": {
      "needs_background": "light"
     },
     "output_type": "display_data"
    }
   ],
   "source": [
    "# plot the scores\n",
    "pyplot.bar([i for i in range(len(fs.scores_))], fs.scores_)\n",
    "pyplot.show()"
   ]
  },
  {
   "cell_type": "code",
   "execution_count": null,
   "id": "ecf8d9ce",
   "metadata": {},
   "outputs": [],
   "source": []
  }
 ],
 "metadata": {
  "kernelspec": {
   "display_name": "Python 3 (ipykernel)",
   "language": "python",
   "name": "python3"
  },
  "language_info": {
   "codemirror_mode": {
    "name": "ipython",
    "version": 3
   },
   "file_extension": ".py",
   "mimetype": "text/x-python",
   "name": "python",
   "nbconvert_exporter": "python",
   "pygments_lexer": "ipython3",
   "version": "3.8.12"
  }
 },
 "nbformat": 4,
 "nbformat_minor": 5
}
